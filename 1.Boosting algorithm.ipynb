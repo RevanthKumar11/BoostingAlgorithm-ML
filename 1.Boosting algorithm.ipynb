{
 "cells": [
  {
   "cell_type": "code",
   "execution_count": 40,
   "metadata": {},
   "outputs": [],
   "source": [
    "#boosting algorithm \n",
    "# its improve the weak learners in sequential\n",
    "# types of boosting algorithm\n",
    "# adaBoost ,gradientboost, lgboost -> lightboost, xgboost,\n",
    "\n",
    "# 1 adaBoost is same its improve the the weaklearners\n",
    "# 2 gradientboost is loss function and create a good model\n",
    "# 3 Lgboost is another name light boost algorithm. This lgboost algorithm hadel a big data set. Its work grow a leaf that's wise  this algorithm works\n",
    "# 4 xgboost it same works gradientboost but this alogrithm is distribute the leaf so, it works fast\n"
   ]
  },
  {
   "cell_type": "code",
   "execution_count": 110,
   "metadata": {},
   "outputs": [],
   "source": [
    "import pandas as pd\n",
    "import xgboost as xg\n",
    "import lightgbm as lgb"
   ]
  },
  {
   "cell_type": "code",
   "execution_count": 4,
   "metadata": {},
   "outputs": [],
   "source": [
    "dataSet = pd.read_csv('insurance_pre.csv')"
   ]
  },
  {
   "cell_type": "code",
   "execution_count": 10,
   "metadata": {},
   "outputs": [],
   "source": [
    "dataSet = pd.get_dummies(dataSet)"
   ]
  },
  {
   "cell_type": "code",
   "execution_count": 12,
   "metadata": {},
   "outputs": [
    {
     "data": {
      "text/plain": [
       "Index(['age', 'bmi', 'children', 'charges', 'sex_female', 'sex_male',\n",
       "       'smoker_no', 'smoker_yes'],\n",
       "      dtype='object')"
      ]
     },
     "execution_count": 12,
     "metadata": {},
     "output_type": "execute_result"
    }
   ],
   "source": [
    "dataSet.keys()"
   ]
  },
  {
   "cell_type": "code",
   "execution_count": 23,
   "metadata": {},
   "outputs": [],
   "source": [
    "independent = dataSet[['age', 'bmi', 'children','sex_female', 'sex_male','smoker_no', 'smoker_yes']]\n",
    "dependent = dataSet[['charges']]"
   ]
  },
  {
   "cell_type": "code",
   "execution_count": 51,
   "metadata": {},
   "outputs": [],
   "source": [
    "from sklearn.model_selection import train_test_split\n",
    "x_train,x_test,y_train,y_test = train_test_split(independent,dependent,test_size=0.30,random_state=0)"
   ]
  },
  {
   "cell_type": "code",
   "execution_count": 89,
   "metadata": {},
   "outputs": [],
   "source": [
    "from sklearn.ensemble import AdaBoostRegressor\n",
    "from sklearn.ensemble import GradientBoostingRegressor\n",
    "#XGBRegressor()\n",
    "#LGBMRegressor()\n",
    "from sklearn.metrics import r2_score"
   ]
  },
  {
   "cell_type": "code",
   "execution_count": 152,
   "metadata": {},
   "outputs": [
    {
     "name": "stderr",
     "output_type": "stream",
     "text": [
      "C:\\Users\\REVANTH KUMAR\\Anaconda3\\lib\\site-packages\\sklearn\\utils\\validation.py:724: DataConversionWarning: A column-vector y was passed when a 1d array was expected. Please change the shape of y to (n_samples, ), for example using ravel().\n",
      "  y = column_or_1d(y, warn=True)\n",
      "C:\\Users\\REVANTH KUMAR\\Anaconda3\\lib\\site-packages\\sklearn\\ensemble\\gradient_boosting.py:1450: DataConversionWarning: A column-vector y was passed when a 1d array was expected. Please change the shape of y to (n_samples, ), for example using ravel().\n",
      "  y = column_or_1d(y, warn=True)\n"
     ]
    },
    {
     "name": "stdout",
     "output_type": "stream",
     "text": [
      "*************** Ada boosting ***************\n",
      "0.8626785499731988\n",
      "\n",
      "\n",
      "*************** Gradient boosting ***************\n",
      "0.8914914042698048\n",
      "\n",
      "\n",
      "*************** XG boosting ***************\n",
      "0.8257765248999531\n",
      "\n",
      "\n",
      "*************** Light boosting ***************\n",
      "0.86603193419773\n",
      "\n",
      "\n"
     ]
    }
   ],
   "source": [
    "boostAlg = {\n",
    "    \"Ada boosting\":AdaBoostRegressor(), \n",
    "    \"Gradient boosting\":GradientBoostingRegressor(n_estimators=50), \n",
    "    \"XG boosting\":xg.XGBRegressor(), \n",
    "    \"Light boosting\":lgb.LGBMRegressor() \n",
    "}\n",
    "for i in range(len(boostAlg)):\n",
    "    \n",
    "    #algorithm one by one\n",
    "    regressor = list(boostAlg.values())[i]\n",
    "    regressor.fit(x_train,y_train)\n",
    "    \n",
    "    #predict\n",
    "    y_pred = regressor.predict(x_test)\n",
    "    \n",
    "    #score for r2\n",
    "    r2Score = r2_score(y_test,y_pred)\n",
    "    \n",
    "    #printing section\n",
    "    print(('*'*15),list(boostAlg.keys())[i],('*'*15))\n",
    "    print(r2Score)\n",
    "    print('\\n')"
   ]
  },
  {
   "cell_type": "code",
   "execution_count": null,
   "metadata": {},
   "outputs": [],
   "source": []
  },
  {
   "cell_type": "code",
   "execution_count": null,
   "metadata": {},
   "outputs": [],
   "source": []
  }
 ],
 "metadata": {
  "kernelspec": {
   "display_name": "Python 3",
   "language": "python",
   "name": "python3"
  },
  "language_info": {
   "codemirror_mode": {
    "name": "ipython",
    "version": 3
   },
   "file_extension": ".py",
   "mimetype": "text/x-python",
   "name": "python",
   "nbconvert_exporter": "python",
   "pygments_lexer": "ipython3",
   "version": "3.7.4"
  }
 },
 "nbformat": 4,
 "nbformat_minor": 2
}
